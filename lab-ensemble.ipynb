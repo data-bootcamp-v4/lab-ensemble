{
 "cells": [
  {
   "cell_type": "markdown",
   "metadata": {},
   "source": [
    "# LAB | Ensemble Methods"
   ]
  },
  {
   "cell_type": "markdown",
   "metadata": {},
   "source": [
    "**Load the data**\n",
    "\n",
    "In this challenge, we will be working with the same Spaceship Titanic data, like the previous Lab. The data can be found here:\n",
    "\n",
    "https://raw.githubusercontent.com/data-bootcamp-v4/data/main/spaceship_titanic.csv\n",
    "\n",
    "Metadata\n",
    "\n",
    "https://github.com/data-bootcamp-v4/data/blob/main/spaceship_titanic.md"
   ]
  },
  {
   "cell_type": "markdown",
   "metadata": {},
   "source": [
    "In this Lab, you should try different ensemble methods in order to see if can obtain a better model than before. In order to do a fair comparison, you should perform the same feature scaling, engineering applied in previous Lab."
   ]
  },
  {
   "cell_type": "markdown",
   "metadata": {},
   "source": [
    "Now perform the same as before:\n",
    "- Feature Scaling\n",
    "- Feature Selection\n"
   ]
  },
  {
   "cell_type": "markdown",
   "metadata": {},
   "source": [
    "**Perform Train Test Split**"
   ]
  },
  {
   "cell_type": "markdown",
   "metadata": {},
   "source": [
    "**Model Selection** - now you will try to apply different ensemble methods in order to get a better model"
   ]
  },
  {
   "cell_type": "markdown",
   "metadata": {},
   "source": [
    "- Bagging and Pasting"
   ]
  },
  {
   "cell_type": "markdown",
   "metadata": {},
   "source": [
    "- Random Forests"
   ]
  },
  {
   "cell_type": "markdown",
   "metadata": {},
   "source": [
    "- Gradient Boosting"
   ]
  },
  {
   "cell_type": "markdown",
   "metadata": {},
   "source": [
    "- Adaptive Boosting"
   ]
  },
  {
   "cell_type": "markdown",
   "metadata": {},
   "source": [
    "Which model is the best and why?"
   ]
  },
  {
   "cell_type": "code",
   "execution_count": 9,
   "metadata": {},
   "outputs": [
    {
     "data": {
      "text/html": [
       "<div>\n",
       "<style scoped>\n",
       "    .dataframe tbody tr th:only-of-type {\n",
       "        vertical-align: middle;\n",
       "    }\n",
       "\n",
       "    .dataframe tbody tr th {\n",
       "        vertical-align: top;\n",
       "    }\n",
       "\n",
       "    .dataframe thead th {\n",
       "        text-align: right;\n",
       "    }\n",
       "</style>\n",
       "<table border=\"1\" class=\"dataframe\">\n",
       "  <thead>\n",
       "    <tr style=\"text-align: right;\">\n",
       "      <th></th>\n",
       "      <th>Accuracy</th>\n",
       "      <th>Precision</th>\n",
       "      <th>Recall</th>\n",
       "      <th>F1 Score</th>\n",
       "      <th>Model Score</th>\n",
       "    </tr>\n",
       "  </thead>\n",
       "  <tbody>\n",
       "    <tr>\n",
       "      <th>KNN</th>\n",
       "      <td>0.751620</td>\n",
       "      <td>0.751261</td>\n",
       "      <td>0.694099</td>\n",
       "      <td>0.721550</td>\n",
       "      <td>0.751620</td>\n",
       "    </tr>\n",
       "    <tr>\n",
       "      <th>Bagging</th>\n",
       "      <td>0.782577</td>\n",
       "      <td>0.764706</td>\n",
       "      <td>0.767081</td>\n",
       "      <td>0.765891</td>\n",
       "      <td>0.782577</td>\n",
       "    </tr>\n",
       "    <tr>\n",
       "      <th>Random Forest</th>\n",
       "      <td>0.776818</td>\n",
       "      <td>0.759317</td>\n",
       "      <td>0.759317</td>\n",
       "      <td>0.759317</td>\n",
       "      <td>0.776818</td>\n",
       "    </tr>\n",
       "    <tr>\n",
       "      <th>Gradient Boosting</th>\n",
       "      <td>0.753780</td>\n",
       "      <td>0.720760</td>\n",
       "      <td>0.765528</td>\n",
       "      <td>0.742470</td>\n",
       "      <td>0.753780</td>\n",
       "    </tr>\n",
       "    <tr>\n",
       "      <th>AdaBoost</th>\n",
       "      <td>0.750180</td>\n",
       "      <td>0.713056</td>\n",
       "      <td>0.771739</td>\n",
       "      <td>0.741238</td>\n",
       "      <td>0.750180</td>\n",
       "    </tr>\n",
       "    <tr>\n",
       "      <th>XGBoost</th>\n",
       "      <td>0.786177</td>\n",
       "      <td>0.754772</td>\n",
       "      <td>0.798137</td>\n",
       "      <td>0.775849</td>\n",
       "      <td>0.786177</td>\n",
       "    </tr>\n",
       "  </tbody>\n",
       "</table>\n",
       "</div>"
      ],
      "text/plain": [
       "                   Accuracy  Precision    Recall  F1 Score  Model Score\n",
       "KNN                0.751620   0.751261  0.694099  0.721550     0.751620\n",
       "Bagging            0.782577   0.764706  0.767081  0.765891     0.782577\n",
       "Random Forest      0.776818   0.759317  0.759317  0.759317     0.776818\n",
       "Gradient Boosting  0.753780   0.720760  0.765528  0.742470     0.753780\n",
       "AdaBoost           0.750180   0.713056  0.771739  0.741238     0.750180\n",
       "XGBoost            0.786177   0.754772  0.798137  0.775849     0.786177"
      ]
     },
     "execution_count": 9,
     "metadata": {},
     "output_type": "execute_result"
    }
   ],
   "source": [
    "\n",
    "import pandas as pd\n",
    "import numpy as np\n",
    "from sklearn.model_selection import train_test_split\n",
    "from sklearn.tree import DecisionTreeClassifier\n",
    "from sklearn.ensemble import BaggingClassifier, RandomForestClassifier, AdaBoostClassifier, GradientBoostingClassifier\n",
    "from sklearn.neighbors import KNeighborsClassifier\n",
    "from sklearn.preprocessing import MinMaxScaler\n",
    "from sklearn.metrics import accuracy_score, precision_score, recall_score, f1_score, r2_score\n",
    "from xgboost import XGBClassifier\n",
    "\n",
    "\n",
    "spaceship = pd.read_csv(\"https://raw.githubusercontent.com/data-bootcamp-v4/data/main/spaceship_titanic.csv\")\n",
    "\n",
    "\n",
    "spaceship['CryoSleep'] = spaceship['CryoSleep'].astype(bool)\n",
    "spaceship['VIP'] = spaceship['VIP'].astype(bool)\n",
    "\n",
    "spaceship = spaceship.dropna()\n",
    "\n",
    "spaceship['Cabin'] = spaceship['Cabin'].astype(str)  # Ensure 'Cabin' is of type string\n",
    "spaceship['cabin_class'] = spaceship['Cabin'].str[0] #taking the first letter of the cabin\n",
    "\n",
    "spaceship = spaceship.drop(columns=['PassengerId', 'Name', 'Cabin']) #dropping the columns\n",
    "\n",
    "spaceship = pd.get_dummies(spaceship, columns=['HomePlanet', 'cabin_class', 'Destination']) #adding dummies\n",
    "\n",
    "# Convert target to integer\n",
    "spaceship['Transported'] = spaceship['Transported'].astype(int)\n",
    "\n",
    "# Feature Selection\n",
    "features = spaceship[['CryoSleep', 'Age', 'VIP', 'RoomService', 'FoodCourt', 'ShoppingMall',\n",
    "                      'Spa', 'VRDeck', 'HomePlanet_Earth', 'HomePlanet_Europa', 'HomePlanet_Mars', \n",
    "                      'cabin_class_A', 'cabin_class_B', 'cabin_class_C', 'cabin_class_D', \n",
    "                      'cabin_class_E', 'cabin_class_F', 'cabin_class_G', 'cabin_class_T', \n",
    "                      'Destination_55 Cancri e', 'Destination_PSO J318.5-22', 'Destination_TRAPPIST-1e']]\n",
    "target = spaceship['Transported']\n",
    "\n",
    "# Split the data\n",
    "X_train, X_test, y_train, y_test = train_test_split(features, target, test_size=0.20, random_state=4)\n",
    "\n",
    "# Scale the data\n",
    "scaler = MinMaxScaler()\n",
    "X_train_scaled = scaler.fit_transform(X_train)\n",
    "X_test_scaled = scaler.transform(X_test)\n",
    "\n",
    "# Convert to DataFrame for consistency\n",
    "X_train_scaled = pd.DataFrame(X_train_scaled, columns=X_train.columns)\n",
    "X_test_scaled = pd.DataFrame(X_test_scaled, columns=X_test.columns)\n",
    "\n",
    "# Define a function to evaluate and store model results\n",
    "def evaluate_model(model, X_train_scaled, y_train, X_test_scaled, y_test):\n",
    "    model.fit(X_train_scaled, y_train)\n",
    "    pred = model.predict(X_test_scaled)\n",
    "    accuracy = accuracy_score(y_test, pred)\n",
    "    precision = precision_score(y_test, pred)\n",
    "    recall = recall_score(y_test, pred)\n",
    "    f1 = f1_score(y_test, pred)\n",
    "    score = model.score(X_test_scaled, y_test) \n",
    "    return accuracy, precision, recall, f1, score\n",
    "\n",
    "# Initialize results dictionary\n",
    "results = {}\n",
    "\n",
    "# KNN\n",
    "knn = KNeighborsClassifier(n_neighbors=10)\n",
    "results['KNN'] = evaluate_model(knn, X_train_scaled, y_train, X_test_scaled, y_test)\n",
    "\n",
    "# Bagging Classifier\n",
    "bagging_clf = BaggingClassifier(DecisionTreeClassifier(max_depth=20), n_estimators=100, max_samples=1000, random_state=1)\n",
    "results['Bagging'] = evaluate_model(bagging_clf, X_train_scaled, y_train, X_test_scaled, y_test)\n",
    "\n",
    "# Random Forest Classifier\n",
    "forest_clf = RandomForestClassifier(n_estimators=100, max_depth=20, random_state=1)\n",
    "results['Random Forest'] = evaluate_model(forest_clf, X_train_scaled, y_train, X_test_scaled, y_test)\n",
    "\n",
    "# Gradient Boosting Classifier\n",
    "gb_clf = GradientBoostingClassifier(max_depth=20, n_estimators=100, random_state=1)\n",
    "results['Gradient Boosting'] = evaluate_model(gb_clf, X_train_scaled, y_train, X_test_scaled, y_test)\n",
    "\n",
    "# AdaBoost Classifier with SAMME algorithm\n",
    "ada_clf = AdaBoostClassifier(DecisionTreeClassifier(max_depth=20), n_estimators=100, algorithm='SAMME', random_state=1)\n",
    "results['AdaBoost'] = evaluate_model(ada_clf, X_train_scaled, y_train, X_test_scaled, y_test)\n",
    "\n",
    "# XGBoost Classifier\n",
    "xgb_clf = XGBClassifier()\n",
    "results['XGBoost'] = evaluate_model(xgb_clf, X_train_scaled, y_train, X_test_scaled, y_test)\n",
    "\n",
    "# Display results in a table\n",
    "results_df = pd.DataFrame(results, index=['Accuracy', 'Precision', 'Recall', 'F1 Score', 'Model Score']).T\n",
    "results_df\n"
   ]
  },
  {
   "cell_type": "markdown",
   "metadata": {},
   "source": []
  }
 ],
 "metadata": {
  "kernelspec": {
   "display_name": "Python 3",
   "language": "python",
   "name": "python3"
  },
  "language_info": {
   "codemirror_mode": {
    "name": "ipython",
    "version": 3
   },
   "file_extension": ".py",
   "mimetype": "text/x-python",
   "name": "python",
   "nbconvert_exporter": "python",
   "pygments_lexer": "ipython3",
   "version": "3.9.6"
  }
 },
 "nbformat": 4,
 "nbformat_minor": 2
}
