{
 "cells": [
  {
   "cell_type": "markdown",
   "metadata": {},
   "source": [
    "# LAB | Ensemble Methods"
   ]
  },
  {
   "cell_type": "markdown",
   "metadata": {},
   "source": [
    "**Load the data**\n",
    "\n",
    "In this challenge, we will be working with the same Spaceship Titanic data, like the previous Lab. The data can be found here:\n",
    "\n",
    "https://raw.githubusercontent.com/data-bootcamp-v4/data/main/spaceship_titanic.csv\n",
    "\n",
    "Metadata\n",
    "\n",
    "https://github.com/data-bootcamp-v4/data/blob/main/spaceship_titanic.md"
   ]
  },
  {
   "cell_type": "markdown",
   "metadata": {},
   "source": [
    "In this Lab, you should try different ensemble methods in order to see if can obtain a better model than before. In order to do a fair comparison, you should perform the same feature scaling, engineering applied in previous Lab."
   ]
  },
  {
   "cell_type": "code",
   "execution_count": 1,
   "metadata": {},
   "outputs": [],
   "source": [
    "#Libraries\n",
    "import pandas as pd\n",
    "import numpy as np\n",
    "from sklearn.model_selection import train_test_split"
   ]
  },
  {
   "cell_type": "code",
   "execution_count": 2,
   "metadata": {},
   "outputs": [
    {
     "name": "stdout",
     "output_type": "stream",
     "text": [
      "    Age  RoomService  FoodCourt  ShoppingMall     Spa  VRDeck  Transported  \\\n",
      "0  39.0          0.0        0.0           0.0     0.0     0.0        False   \n",
      "1  24.0        109.0        9.0          25.0   549.0    44.0         True   \n",
      "2  58.0         43.0     3576.0           0.0  6715.0    49.0        False   \n",
      "3  33.0          0.0     1283.0         371.0  3329.0   193.0        False   \n",
      "4  16.0        303.0       70.0         151.0   565.0     2.0         True   \n",
      "\n",
      "   HomePlanet_Europa  HomePlanet_Mars  CryoSleep_True  Cabin_B  Cabin_C  \\\n",
      "0               True            False           False     True    False   \n",
      "1              False            False           False    False    False   \n",
      "2               True            False           False    False    False   \n",
      "3               True            False           False    False    False   \n",
      "4              False            False           False    False    False   \n",
      "\n",
      "   Cabin_D  Cabin_E  Cabin_F  Cabin_G  Cabin_T  Destination_PSO J318.5-22  \\\n",
      "0    False    False    False    False    False                      False   \n",
      "1    False    False     True    False    False                      False   \n",
      "2    False    False    False    False    False                      False   \n",
      "3    False    False    False    False    False                      False   \n",
      "4    False    False     True    False    False                      False   \n",
      "\n",
      "   Destination_TRAPPIST-1e  VIP_True  \n",
      "0                     True     False  \n",
      "1                     True     False  \n",
      "2                     True      True  \n",
      "3                     True     False  \n",
      "4                     True     False  \n"
     ]
    }
   ],
   "source": [
    "spaceship_encoded = pd.read_csv(r\"C:\\Users\\Eros\\IH-labs\\lab-feature-engineering\\spaceship_encoded\")\n",
    "print(spaceship_encoded.head())"
   ]
  },
  {
   "cell_type": "markdown",
   "metadata": {},
   "source": [
    "Now perform the same as before:\n",
    "- Feature Scaling\n",
    "- Feature Selection\n"
   ]
  },
  {
   "cell_type": "code",
   "execution_count": 6,
   "metadata": {},
   "outputs": [
    {
     "data": {
      "text/html": [
       "<div>\n",
       "<style scoped>\n",
       "    .dataframe tbody tr th:only-of-type {\n",
       "        vertical-align: middle;\n",
       "    }\n",
       "\n",
       "    .dataframe tbody tr th {\n",
       "        vertical-align: top;\n",
       "    }\n",
       "\n",
       "    .dataframe thead th {\n",
       "        text-align: right;\n",
       "    }\n",
       "</style>\n",
       "<table border=\"1\" class=\"dataframe\">\n",
       "  <thead>\n",
       "    <tr style=\"text-align: right;\">\n",
       "      <th></th>\n",
       "      <th>Age</th>\n",
       "      <th>RoomService</th>\n",
       "      <th>FoodCourt</th>\n",
       "      <th>ShoppingMall</th>\n",
       "      <th>Spa</th>\n",
       "      <th>VRDeck</th>\n",
       "      <th>Transported</th>\n",
       "      <th>HomePlanet_Europa</th>\n",
       "      <th>HomePlanet_Mars</th>\n",
       "      <th>CryoSleep_True</th>\n",
       "      <th>Cabin_B</th>\n",
       "      <th>Cabin_C</th>\n",
       "      <th>Cabin_D</th>\n",
       "      <th>Cabin_E</th>\n",
       "      <th>Cabin_F</th>\n",
       "      <th>Cabin_G</th>\n",
       "      <th>Cabin_T</th>\n",
       "      <th>Destination_PSO J318.5-22</th>\n",
       "      <th>Destination_TRAPPIST-1e</th>\n",
       "      <th>VIP_True</th>\n",
       "    </tr>\n",
       "  </thead>\n",
       "  <tbody>\n",
       "    <tr>\n",
       "      <th>0</th>\n",
       "      <td>0.695413</td>\n",
       "      <td>-0.345756</td>\n",
       "      <td>-0.285355</td>\n",
       "      <td>-0.309494</td>\n",
       "      <td>-0.273759</td>\n",
       "      <td>-0.269534</td>\n",
       "      <td>False</td>\n",
       "      <td>True</td>\n",
       "      <td>False</td>\n",
       "      <td>False</td>\n",
       "      <td>True</td>\n",
       "      <td>False</td>\n",
       "      <td>False</td>\n",
       "      <td>False</td>\n",
       "      <td>False</td>\n",
       "      <td>False</td>\n",
       "      <td>False</td>\n",
       "      <td>False</td>\n",
       "      <td>True</td>\n",
       "      <td>False</td>\n",
       "    </tr>\n",
       "    <tr>\n",
       "      <th>1</th>\n",
       "      <td>-0.336769</td>\n",
       "      <td>-0.176748</td>\n",
       "      <td>-0.279993</td>\n",
       "      <td>-0.266112</td>\n",
       "      <td>0.206165</td>\n",
       "      <td>-0.230494</td>\n",
       "      <td>True</td>\n",
       "      <td>False</td>\n",
       "      <td>False</td>\n",
       "      <td>False</td>\n",
       "      <td>False</td>\n",
       "      <td>False</td>\n",
       "      <td>False</td>\n",
       "      <td>False</td>\n",
       "      <td>True</td>\n",
       "      <td>False</td>\n",
       "      <td>False</td>\n",
       "      <td>False</td>\n",
       "      <td>True</td>\n",
       "      <td>False</td>\n",
       "    </tr>\n",
       "    <tr>\n",
       "      <th>2</th>\n",
       "      <td>2.002842</td>\n",
       "      <td>-0.279083</td>\n",
       "      <td>1.845163</td>\n",
       "      <td>-0.309494</td>\n",
       "      <td>5.596357</td>\n",
       "      <td>-0.226058</td>\n",
       "      <td>False</td>\n",
       "      <td>True</td>\n",
       "      <td>False</td>\n",
       "      <td>False</td>\n",
       "      <td>False</td>\n",
       "      <td>False</td>\n",
       "      <td>False</td>\n",
       "      <td>False</td>\n",
       "      <td>False</td>\n",
       "      <td>False</td>\n",
       "      <td>False</td>\n",
       "      <td>False</td>\n",
       "      <td>True</td>\n",
       "      <td>True</td>\n",
       "    </tr>\n",
       "    <tr>\n",
       "      <th>3</th>\n",
       "      <td>0.282540</td>\n",
       "      <td>-0.345756</td>\n",
       "      <td>0.479034</td>\n",
       "      <td>0.334285</td>\n",
       "      <td>2.636384</td>\n",
       "      <td>-0.098291</td>\n",
       "      <td>False</td>\n",
       "      <td>True</td>\n",
       "      <td>False</td>\n",
       "      <td>False</td>\n",
       "      <td>False</td>\n",
       "      <td>False</td>\n",
       "      <td>False</td>\n",
       "      <td>False</td>\n",
       "      <td>False</td>\n",
       "      <td>False</td>\n",
       "      <td>False</td>\n",
       "      <td>False</td>\n",
       "      <td>True</td>\n",
       "      <td>False</td>\n",
       "    </tr>\n",
       "    <tr>\n",
       "      <th>4</th>\n",
       "      <td>-0.887266</td>\n",
       "      <td>0.124056</td>\n",
       "      <td>-0.243650</td>\n",
       "      <td>-0.047470</td>\n",
       "      <td>0.220152</td>\n",
       "      <td>-0.267759</td>\n",
       "      <td>True</td>\n",
       "      <td>False</td>\n",
       "      <td>False</td>\n",
       "      <td>False</td>\n",
       "      <td>False</td>\n",
       "      <td>False</td>\n",
       "      <td>False</td>\n",
       "      <td>False</td>\n",
       "      <td>True</td>\n",
       "      <td>False</td>\n",
       "      <td>False</td>\n",
       "      <td>False</td>\n",
       "      <td>True</td>\n",
       "      <td>False</td>\n",
       "    </tr>\n",
       "  </tbody>\n",
       "</table>\n",
       "</div>"
      ],
      "text/plain": [
       "        Age  RoomService  FoodCourt  ShoppingMall       Spa    VRDeck  \\\n",
       "0  0.695413    -0.345756  -0.285355     -0.309494 -0.273759 -0.269534   \n",
       "1 -0.336769    -0.176748  -0.279993     -0.266112  0.206165 -0.230494   \n",
       "2  2.002842    -0.279083   1.845163     -0.309494  5.596357 -0.226058   \n",
       "3  0.282540    -0.345756   0.479034      0.334285  2.636384 -0.098291   \n",
       "4 -0.887266     0.124056  -0.243650     -0.047470  0.220152 -0.267759   \n",
       "\n",
       "   Transported  HomePlanet_Europa  HomePlanet_Mars  CryoSleep_True  Cabin_B  \\\n",
       "0        False               True            False           False     True   \n",
       "1         True              False            False           False    False   \n",
       "2        False               True            False           False    False   \n",
       "3        False               True            False           False    False   \n",
       "4         True              False            False           False    False   \n",
       "\n",
       "   Cabin_C  Cabin_D  Cabin_E  Cabin_F  Cabin_G  Cabin_T  \\\n",
       "0    False    False    False    False    False    False   \n",
       "1    False    False    False     True    False    False   \n",
       "2    False    False    False    False    False    False   \n",
       "3    False    False    False    False    False    False   \n",
       "4    False    False    False     True    False    False   \n",
       "\n",
       "   Destination_PSO J318.5-22  Destination_TRAPPIST-1e  VIP_True  \n",
       "0                      False                     True     False  \n",
       "1                      False                     True     False  \n",
       "2                      False                     True      True  \n",
       "3                      False                     True     False  \n",
       "4                      False                     True     False  "
      ]
     },
     "execution_count": 6,
     "metadata": {},
     "output_type": "execute_result"
    }
   ],
   "source": [
    "#your code here\n",
    "from sklearn.preprocessing import StandardScaler\n",
    "\n",
    "# Select the numerical features\n",
    "numerical_features = ['Age', 'RoomService', 'FoodCourt', 'ShoppingMall', 'Spa', 'VRDeck']\n",
    "\n",
    "# Initialize the StandardScaler\n",
    "scaler = StandardScaler()\n",
    "\n",
    "# Fit and transform the numerical features\n",
    "spaceship_encoded[numerical_features] = scaler.fit_transform(spaceship_encoded[numerical_features])\n",
    "\n",
    "spaceship_encoded.head()\n"
   ]
  },
  {
   "cell_type": "markdown",
   "metadata": {},
   "source": [
    "**Perform Train Test Split**"
   ]
  },
  {
   "cell_type": "code",
   "execution_count": 9,
   "metadata": {},
   "outputs": [
    {
     "data": {
      "text/plain": [
       "((5284, 19), (1322, 19), (5284,), (1322,))"
      ]
     },
     "execution_count": 9,
     "metadata": {},
     "output_type": "execute_result"
    }
   ],
   "source": [
    "#your code here\n",
    "from sklearn.model_selection import train_test_split\n",
    "\n",
    "# Separate the features and the target variable\n",
    "X = spaceship_encoded.drop(columns=['Transported'])\n",
    "y = spaceship_encoded['Transported']\n",
    "\n",
    "# Perform the train-test split\n",
    "X_train, X_test, y_train, y_test = train_test_split(X, y, test_size=0.2, random_state=42)\n",
    "\n",
    "# Display the shapes of the resulting datasets\n",
    "X_train.shape, X_test.shape, y_train.shape, y_test.shape\n"
   ]
  },
  {
   "cell_type": "markdown",
   "metadata": {},
   "source": [
    "**Model Selection** - now you will try to apply different ensemble methods in order to get a better model"
   ]
  },
  {
   "cell_type": "markdown",
   "metadata": {},
   "source": [
    "- Bagging and Pasting"
   ]
  },
  {
   "cell_type": "code",
   "execution_count": null,
   "metadata": {
    "scrolled": true
   },
   "outputs": [],
   "source": [
    "from sklearn.ensemble import RandomForestClassifier, BaggingClassifier\n",
    "from sklearn.metrics import accuracy_score\n",
    "\n",
    "# Assume X_train, X_test, y_train, y_test are already defined and preprocessed\n",
    "\n",
    "# Initialize the models\n",
    "bagging_model = BaggingClassifier(estimator=RandomForestClassifier(random_state=42), n_estimators=100, random_state=42, bootstrap=True)\n",
    "pasting_model = BaggingClassifier(estimator=RandomForestClassifier(random_state=42), n_estimators=100, random_state=42, bootstrap=False)\n",
    "\n",
    "# Train and evaluate Bagging\n",
    "bagging_model.fit(X_train, y_train)\n",
    "y_pred_bagging = bagging_model.predict(X_test)\n",
    "accuracy_bagging = accuracy_score(y_test, y_pred_bagging)\n",
    "\n",
    "# Train and evaluate Pasting\n",
    "pasting_model.fit(X_train, y_train)\n",
    "y_pred_pasting = pasting_model.predict(X_test)\n",
    "accuracy_pasting = accuracy_score(y_test, y_pred_pasting)\n",
    "\n",
    "# Display the accuracies\n",
    "accuracy_bagging, accuracy_pasting\n",
    "\n",
    "\n"
   ]
  },
  {
   "cell_type": "markdown",
   "metadata": {},
   "source": [
    "- Random Forests"
   ]
  },
  {
   "cell_type": "code",
   "execution_count": 15,
   "metadata": {},
   "outputs": [
    {
     "data": {
      "text/plain": [
       "0.8063540090771558"
      ]
     },
     "execution_count": 15,
     "metadata": {},
     "output_type": "execute_result"
    }
   ],
   "source": [
    "#your code here\n",
    "from sklearn.ensemble import RandomForestClassifier\n",
    "from sklearn.metrics import accuracy_score, classification_report, confusion_matrix\n",
    "\n",
    "# Initialize the Random Forest model\n",
    "rf_model = RandomForestClassifier(random_state=42)\n",
    "\n",
    "# Train the model\n",
    "rf_model.fit(X_train, y_train)\n",
    "\n",
    "# Make predictions\n",
    "y_pred_rf = rf_model.predict(X_test)\n",
    "\n",
    "# Evaluate the model\n",
    "accuracy_rf = accuracy_score(y_test, y_pred_rf)\n",
    "\n",
    "accuracy_rf"
   ]
  },
  {
   "cell_type": "markdown",
   "metadata": {},
   "source": [
    "- Gradient Boosting"
   ]
  },
  {
   "cell_type": "code",
   "execution_count": null,
   "metadata": {},
   "outputs": [],
   "source": [
    "#your code here\n",
    "from sklearn.ensemble import GradientBoostingClassifier\n",
    "\n",
    "# Initialize the Gradient Boosting model\n",
    "gb_model = GradientBoostingClassifier(random_state=42)\n",
    "\n",
    "# Train the model\n",
    "gb_model.fit(X_train, y_train)\n",
    "\n",
    "# Make predictions\n",
    "y_pred_gb = gb_model.predict(X_test)\n",
    "\n",
    "# Evaluate the model\n",
    "accuracy_gb = accuracy_score(y_test, y_pred_gb)\n",
    "\n",
    "accuracy_gb\n"
   ]
  },
  {
   "cell_type": "markdown",
   "metadata": {},
   "source": [
    "- Adaptive Boosting"
   ]
  },
  {
   "cell_type": "code",
   "execution_count": null,
   "metadata": {},
   "outputs": [],
   "source": [
    "#your code here\n",
    "from sklearn.ensemble import AdaBoostClassifier\n",
    "from sklearn.metrics import accuracy_score, classification_report, confusion_matrix\n",
    "from sklearn.model_selection import train_test_split\n",
    "from sklearn.preprocessing import StandardScaler\n",
    "import pandas as pd\n",
    "\n",
    "# Load the data\n",
    "file_path = 'path_to_your_csv_file/spaceship_encoded.csv'\n",
    "spaceship_encoded = pd.read_csv(file_path)\n",
    "\n",
    "# Define features and target\n",
    "X = spaceship_encoded.drop(columns=['Transported'])\n",
    "y = spaceship_encoded['Transported']\n",
    "\n",
    "# Perform the train-test split\n",
    "X_train, X_test, y_train, y_test = train_test_split(X, y, test_size=0.2, random_state=42)\n",
    "\n",
    "# Standardize the features\n",
    "scaler = StandardScaler()\n",
    "X_train = scaler.fit_transform(X_train)\n",
    "X_test = scaler.transform(X_test)\n",
    "\n",
    "# Initialize the AdaBoost model\n",
    "ada_model = AdaBoostClassifier(n_estimators=100, random_state=42)\n",
    "\n",
    "# Train the model\n",
    "ada_model.fit(X_train, y_train)\n",
    "\n",
    "# Make predictions\n",
    "y_pred_ada = ada_model.predict(X_test)\n",
    "\n",
    "# Evaluate the model\n",
    "accuracy_ada = accuracy_score(y_test, y_pred_ada)\n",
    "\n",
    "accuracy_ada\n"
   ]
  },
  {
   "cell_type": "markdown",
   "metadata": {},
   "source": [
    "Which model is the best and why?"
   ]
  },
  {
   "cell_type": "code",
   "execution_count": null,
   "metadata": {},
   "outputs": [],
   "source": [
    "#comment here\n",
    "Random Forests"
   ]
  }
 ],
 "metadata": {
  "kernelspec": {
   "display_name": "Python 3 (ipykernel)",
   "language": "python",
   "name": "python3"
  },
  "language_info": {
   "codemirror_mode": {
    "name": "ipython",
    "version": 3
   },
   "file_extension": ".py",
   "mimetype": "text/x-python",
   "name": "python",
   "nbconvert_exporter": "python",
   "pygments_lexer": "ipython3",
   "version": "3.11.9"
  }
 },
 "nbformat": 4,
 "nbformat_minor": 4
}
